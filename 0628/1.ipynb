{
 "cells": [
  {
   "cell_type": "markdown",
   "metadata": {},
   "source": [
    "***\n",
    "\n",
    "# 신경망 개념"
   ]
  },
  {
   "cell_type": "code",
   "execution_count": 620,
   "metadata": {},
   "outputs": [],
   "source": [
    "import numpy as np\n",
    "import matplotlib.pyplot as plt"
   ]
  },
  {
   "cell_type": "code",
   "execution_count": 621,
   "metadata": {},
   "outputs": [
    {
     "data": {
      "text/plain": [
       "array([[ 1,  0,  1],\n",
       "       [ 1,  1,  0],\n",
       "       [ 1, -1,  1],\n",
       "       [ 1,  1,  1],\n",
       "       [ 1,  2,  1]])"
      ]
     },
     "execution_count": 621,
     "metadata": {},
     "output_type": "execute_result"
    }
   ],
   "source": [
    "X = np.array([[1,0,1], [1,1,0], [1,-1,1], [1,1,1], [1,2,1]])\n",
    "X"
   ]
  },
  {
   "cell_type": "code",
   "execution_count": 622,
   "metadata": {},
   "outputs": [
    {
     "data": {
      "text/plain": [
       "array([ 1,  1, -1])"
      ]
     },
     "execution_count": 622,
     "metadata": {},
     "output_type": "execute_result"
    }
   ],
   "source": [
    "W = np.array([1,1,-1])\n",
    "W"
   ]
  },
  {
   "cell_type": "code",
   "execution_count": 623,
   "metadata": {},
   "outputs": [
    {
     "data": {
      "text/plain": [
       "array([[ 1,  0, -1],\n",
       "       [ 1,  1,  0],\n",
       "       [ 1, -1, -1],\n",
       "       [ 1,  1, -1],\n",
       "       [ 1,  2, -1]])"
      ]
     },
     "execution_count": 623,
     "metadata": {},
     "output_type": "execute_result"
    }
   ],
   "source": [
    "X * W"
   ]
  },
  {
   "cell_type": "code",
   "execution_count": 624,
   "metadata": {},
   "outputs": [
    {
     "data": {
      "text/plain": [
       "array([ 0,  2, -1,  1,  2])"
      ]
     },
     "execution_count": 624,
     "metadata": {},
     "output_type": "execute_result"
    }
   ],
   "source": [
    "# axis = 0 --> 아래로, 1 --> 옆으로\n",
    "\n",
    "(X * W).sum(axis=1)"
   ]
  },
  {
   "cell_type": "code",
   "execution_count": 625,
   "metadata": {},
   "outputs": [
    {
     "data": {
      "text/plain": [
       "array([ True,  True,  True,  True,  True])"
      ]
     },
     "execution_count": 625,
     "metadata": {},
     "output_type": "execute_result"
    }
   ],
   "source": [
    "X@W == (X * W).sum(axis=1)"
   ]
  },
  {
   "cell_type": "code",
   "execution_count": 626,
   "metadata": {},
   "outputs": [
    {
     "data": {
      "text/plain": [
       "array([[3, 3],\n",
       "       [3, 3],\n",
       "       [2, 2],\n",
       "       [4, 4]])"
      ]
     },
     "execution_count": 626,
     "metadata": {},
     "output_type": "execute_result"
    }
   ],
   "source": [
    "A = np.array([[1,2],[2,1],[1,1],[2,2]])\n",
    "B = np.array([[1,1],[1,1]])\n",
    "\n",
    "A@B"
   ]
  },
  {
   "cell_type": "code",
   "execution_count": 627,
   "metadata": {},
   "outputs": [
    {
     "data": {
      "text/plain": [
       "array([[1, 2],\n",
       "       [2, 1],\n",
       "       [1, 1],\n",
       "       [2, 2]])"
      ]
     },
     "execution_count": 627,
     "metadata": {},
     "output_type": "execute_result"
    }
   ],
   "source": [
    "A"
   ]
  },
  {
   "cell_type": "code",
   "execution_count": 628,
   "metadata": {},
   "outputs": [
    {
     "data": {
      "text/plain": [
       "array([[1, 1],\n",
       "       [1, 1]])"
      ]
     },
     "execution_count": 628,
     "metadata": {},
     "output_type": "execute_result"
    }
   ],
   "source": [
    "B"
   ]
  },
  {
   "cell_type": "markdown",
   "metadata": {},
   "source": [
    "***\n",
    "\n",
    "### 아이리스 선형회귀"
   ]
  },
  {
   "cell_type": "code",
   "execution_count": 629,
   "metadata": {},
   "outputs": [],
   "source": [
    "\n",
    "from sklearn.datasets import load_iris\n",
    "iris = load_iris()"
   ]
  },
  {
   "cell_type": "code",
   "execution_count": 630,
   "metadata": {},
   "outputs": [
    {
     "data": {
      "text/plain": [
       "((150, 3), (150,))"
      ]
     },
     "execution_count": 630,
     "metadata": {},
     "output_type": "execute_result"
    }
   ],
   "source": [
    "X = iris.data[:, :3]\n",
    "y = iris.data[:, 3]\n",
    "X.shape, y.shape"
   ]
  },
  {
   "cell_type": "code",
   "execution_count": 631,
   "metadata": {},
   "outputs": [
    {
     "data": {
      "text/plain": [
       "array([ 0.60881097, -1.31657667,  0.19513979])"
      ]
     },
     "execution_count": 631,
     "metadata": {},
     "output_type": "execute_result"
    }
   ],
   "source": [
    "W = np.random.randn(3)\n",
    "b = np.random.randn()\n",
    "\n",
    "W"
   ]
  },
  {
   "cell_type": "code",
   "execution_count": 632,
   "metadata": {},
   "outputs": [
    {
     "data": {
      "text/plain": [
       "array([-0.98602105, -0.44949491, -0.85408641, -0.74428188, -1.17855981,\n",
       "       -1.27146649, -1.15876886, -0.8957305 , -0.62224272, -0.56163859,\n",
       "       -1.04717911, -0.99797871, -0.510376  , -0.87332342, -1.25716966,\n",
       "       -1.78613949, -1.3495224 , -0.98602105, -0.95716553, -1.36148007,\n",
       "       -0.61317815, -1.2298224 , -1.50014011, -0.66416378, -0.93943678,\n",
       "       -0.34958585, -0.87621652, -0.90562597, -0.79348228, -0.79554448,\n",
       "       -0.60300571, -0.65220611, -1.69557197, -1.66410033, -0.56163859,\n",
       "       -0.6909571 , -0.76201064, -1.23944091, -0.77341437, -0.8348494 ,\n",
       "       -1.06641612,  0.20907039, -1.0367297 , -1.00787419, -1.28342415,\n",
       "       -0.510376  , -1.34196609, -0.89545353, -1.10806021, -0.78358681,\n",
       "        1.2096541 ,  0.80533956,  1.31945863,  1.3447588 ,  1.4123653 ,\n",
       "        0.90580255,  0.65182875,  0.7112167 ,  1.34158873,  0.61597086,\n",
       "        1.33775642,  0.70570747,  1.78082195,  1.05669723,  0.53763798,\n",
       "        1.10012654,  0.58160612,  1.0202854 ,  2.00015404,  1.12281058,\n",
       "        0.55947601,  1.05175704,  1.74411805,  1.1883549 ,  1.1612846 ,\n",
       "        1.17090311,  1.63403655,  1.34886808,  0.95678817,  0.97397809,\n",
       "        1.17407317,  1.15455919,  0.98125744,  1.33718738,  0.45984393,\n",
       "        0.29849984,  1.15866848,  1.90986349,  0.5035502 ,  1.08144346,\n",
       "        1.02784171,  0.90552558,  1.13242909,  0.90375546,  0.91803718,\n",
       "        0.58394528,  0.71560295,  1.03952241,  0.64277928,  0.82774663,\n",
       "        0.90551048,  1.21542519,  1.76801828,  1.35408523,  1.38321772,\n",
       "        2.20902161,  0.81372678,  2.09949405,  2.16326825,  1.07798133,\n",
       "        0.98330453,  1.61973973,  1.50731907,  1.39834545,  1.08376752,\n",
       "        0.96145139,  1.32467578,  1.23615536,  2.85507532,  1.97596174,\n",
       "        1.34391279,  0.92297737,  2.55273202,  1.48080271,  1.09049293,\n",
       "        1.58509802,  1.26874997,  0.96406752,  1.546624  ,  1.8093854 ,\n",
       "        2.25300486,  1.29937561,  1.546624  ,  1.388173  ,  1.62729604,\n",
       "        2.17233282,  0.6957969 ,  1.13213702,  0.88367244,  1.41702852,\n",
       "        1.33429429,  1.35848659,  1.21542519,  1.32205965,  1.09049293,\n",
       "        1.38789604,  1.76363203,  1.26613384,  0.59588784,  0.88133328])"
      ]
     },
     "execution_count": 632,
     "metadata": {},
     "output_type": "execute_result"
    }
   ],
   "source": [
    "pred_y = X@W + b\n",
    "pred_y"
   ]
  },
  {
   "cell_type": "code",
   "execution_count": 633,
   "metadata": {},
   "outputs": [
    {
     "data": {
      "text/plain": [
       "<matplotlib.legend.Legend at 0x1481750a0>"
      ]
     },
     "execution_count": 633,
     "metadata": {},
     "output_type": "execute_result"
    },
    {
     "data": {
      "image/png": "[encoded data removed]",
      "text/plain": [
       "<Figure size 432x288 with 1 Axes>"
      ]
     },
     "metadata": {
      "needs_background": "light"
     },
     "output_type": "display_data"
    }
   ],
   "source": [
    "plt.plot(pred_y)\n",
    "plt.plot(y)\n",
    "plt.legend(['pred_y', 'y'])"
   ]
  },
  {
   "cell_type": "markdown",
   "metadata": {},
   "source": [
    "***\n",
    "\n",
    "### 오차값 계산\n",
    "- MSE (Mean Squared Error)"
   ]
  },
  {
   "cell_type": "code",
   "execution_count": 634,
   "metadata": {},
   "outputs": [
    {
     "name": "stdout",
     "output_type": "stream",
     "text": [
      "0.8422122962230478\n"
     ]
    }
   ],
   "source": [
    "mse = (((y - pred_y)**2).sum())/150\n",
    "print(mse)"
   ]
  },
  {
   "cell_type": "markdown",
   "metadata": {},
   "source": [
    "***\n",
    "### 가중치 변경"
   ]
  },
  {
   "cell_type": "code",
   "execution_count": 760,
   "metadata": {},
   "outputs": [
    {
     "data": {
      "text/plain": [
       "array([ 0.71081097, -1.26657667,  0.16513979])"
      ]
     },
     "execution_count": 760,
     "metadata": {},
     "output_type": "execute_result"
    }
   ],
   "source": [
    "W1 = W.copy()\n",
    "W1[0] += 0.102\n",
    "W1[1] += 0.05\n",
    "W1[2] -= 0.03\n",
    "W1"
   ]
  },
  {
   "cell_type": "code",
   "execution_count": 761,
   "metadata": {},
   "outputs": [],
   "source": [
    "pred_y = X@W1 + b"
   ]
  },
  {
   "cell_type": "code",
   "execution_count": 762,
   "metadata": {},
   "outputs": [
    {
     "name": "stdout",
     "output_type": "stream",
     "text": [
      "0.36117739424612355\n"
     ]
    }
   ],
   "source": [
    "mse = (((y - pred_y)**2).sum())/150\n",
    "print(mse)"
   ]
  },
  {
   "cell_type": "code",
   "execution_count": 785,
   "metadata": {},
   "outputs": [
    {
     "data": {
      "image/png": "[encoded data removed]",
      "text/plain": [
       "<Figure size 432x288 with 1 Axes>"
      ]
     },
     "metadata": {
      "needs_background": "light"
     },
     "output_type": "display_data"
    }
   ],
   "source": [
    "plt.plot(pred_y)\n",
    "plt.plot(y)\n",
    "plt.legend(['pred_y', 'y'])\n",
    "\n",
    "plt.show()"
   ]
  },
  {
   "cell_type": "code",
   "execution_count": null,
   "metadata": {},
   "outputs": [],
   "source": []
  }
 ],
 "metadata": {
  "kernelspec": {
   "display_name": "Python 3.8.9 64-bit",
   "language": "python",
   "name": "python3"
  },
  "language_info": {
   "codemirror_mode": {
    "name": "ipython",
    "version": 3
   },
   "file_extension": ".py",
   "mimetype": "text/x-python",
   "name": "python",
   "nbconvert_exporter": "python",
   "pygments_lexer": "ipython3",
   "version": "3.8.9"
  },
  "orig_nbformat": 4,
  "vscode": {
   "interpreter": {
    "hash": "31f2aee4e71d21fbe5cf8b01ff0e069b9275f58929596ceb00d14d90e3e16cd6"
   }
  }
 },
 "nbformat": 4,
 "nbformat_minor": 2
}
