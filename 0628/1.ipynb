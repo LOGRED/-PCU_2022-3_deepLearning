{
 "cells": [
  {
   "cell_type": "markdown",
   "metadata": {},
   "source": [
    "***\n",
    "\n",
    "# 신경망 개념"
   ]
  },
  {
   "cell_type": "code",
   "execution_count": 1,
   "metadata": {},
   "outputs": [],
   "source": [
    "import numpy as np\n",
    "import matplotlib.pyplot as plt"
   ]
  },
  {
   "cell_type": "code",
   "execution_count": 2,
   "metadata": {},
   "outputs": [
    {
     "data": {
      "text/plain": [
       "array([[ 1,  0,  1],\n",
       "       [ 1,  1,  0],\n",
       "       [ 1, -1,  1],\n",
       "       [ 1,  1,  1],\n",
       "       [ 1,  2,  1]])"
      ]
     },
     "execution_count": 2,
     "metadata": {},
     "output_type": "execute_result"
    }
   ],
   "source": [
    "X = np.array([[1,0,1], [1,1,0], [1,-1,1], [1,1,1], [1,2,1]])\n",
    "X"
   ]
  },
  {
   "cell_type": "code",
   "execution_count": 3,
   "metadata": {},
   "outputs": [
    {
     "data": {
      "text/plain": [
       "array([ 1,  1, -1])"
      ]
     },
     "execution_count": 3,
     "metadata": {},
     "output_type": "execute_result"
    }
   ],
   "source": [
    "W = np.array([1,1,-1])\n",
    "W"
   ]
  },
  {
   "cell_type": "code",
   "execution_count": 4,
   "metadata": {},
   "outputs": [
    {
     "data": {
      "text/plain": [
       "array([[ 1,  0, -1],\n",
       "       [ 1,  1,  0],\n",
       "       [ 1, -1, -1],\n",
       "       [ 1,  1, -1],\n",
       "       [ 1,  2, -1]])"
      ]
     },
     "execution_count": 4,
     "metadata": {},
     "output_type": "execute_result"
    }
   ],
   "source": [
    "X * W"
   ]
  },
  {
   "cell_type": "code",
   "execution_count": 5,
   "metadata": {},
   "outputs": [
    {
     "data": {
      "text/plain": [
       "array([ 0,  2, -1,  1,  2])"
      ]
     },
     "execution_count": 5,
     "metadata": {},
     "output_type": "execute_result"
    }
   ],
   "source": [
    "# axis = 0 --> 아래로, 1 --> 옆으로\n",
    "\n",
    "(X * W).sum(axis=1)"
   ]
  },
  {
   "cell_type": "code",
   "execution_count": 6,
   "metadata": {},
   "outputs": [
    {
     "data": {
      "text/plain": [
       "array([ True,  True,  True,  True,  True])"
      ]
     },
     "execution_count": 6,
     "metadata": {},
     "output_type": "execute_result"
    }
   ],
   "source": [
    "X@W == (X * W).sum(axis=1)"
   ]
  },
  {
   "cell_type": "code",
   "execution_count": 7,
   "metadata": {},
   "outputs": [
    {
     "data": {
      "text/plain": [
       "array([[3, 3],\n",
       "       [3, 3],\n",
       "       [2, 2],\n",
       "       [4, 4]])"
      ]
     },
     "execution_count": 7,
     "metadata": {},
     "output_type": "execute_result"
    }
   ],
   "source": [
    "A = np.array([[1,2],[2,1],[1,1],[2,2]])\n",
    "B = np.array([[1,1],[1,1]])\n",
    "\n",
    "A@B"
   ]
  },
  {
   "cell_type": "code",
   "execution_count": 8,
   "metadata": {},
   "outputs": [
    {
     "data": {
      "text/plain": [
       "array([[1, 2],\n",
       "       [2, 1],\n",
       "       [1, 1],\n",
       "       [2, 2]])"
      ]
     },
     "execution_count": 8,
     "metadata": {},
     "output_type": "execute_result"
    }
   ],
   "source": [
    "A"
   ]
  },
  {
   "cell_type": "code",
   "execution_count": 9,
   "metadata": {},
   "outputs": [
    {
     "data": {
      "text/plain": [
       "array([[1, 1],\n",
       "       [1, 1]])"
      ]
     },
     "execution_count": 9,
     "metadata": {},
     "output_type": "execute_result"
    }
   ],
   "source": [
    "B"
   ]
  },
  {
   "cell_type": "markdown",
   "metadata": {},
   "source": [
    "***\n",
    "\n",
    "### 아이리스 선형회귀"
   ]
  },
  {
   "cell_type": "code",
   "execution_count": 10,
   "metadata": {},
   "outputs": [],
   "source": [
    "\n",
    "from sklearn.datasets import load_iris\n",
    "iris = load_iris()"
   ]
  },
  {
   "cell_type": "code",
   "execution_count": 11,
   "metadata": {},
   "outputs": [
    {
     "data": {
      "text/plain": [
       "((150, 3), (150,))"
      ]
     },
     "execution_count": 11,
     "metadata": {},
     "output_type": "execute_result"
    }
   ],
   "source": [
    "X = iris.data[:, :3]\n",
    "y = iris.data[:, 3]\n",
    "X.shape, y.shape"
   ]
  },
  {
   "cell_type": "code",
   "execution_count": 12,
   "metadata": {},
   "outputs": [
    {
     "data": {
      "text/plain": [
       "array([-0.3929464 ,  0.83444948,  0.83293615])"
      ]
     },
     "execution_count": 12,
     "metadata": {},
     "output_type": "execute_result"
    }
   ],
   "source": [
    "W = np.random.randn(3)\n",
    "b = np.random.randn()\n",
    "\n",
    "W"
   ]
  },
  {
   "cell_type": "code",
   "execution_count": 13,
   "metadata": {},
   "outputs": [
    {
     "data": {
      "text/plain": [
       "array([-1.00451263e+00, -1.34314809e+00, -1.18096253e+00, -1.05852561e+00,\n",
       "       -8.81773040e-01, -5.38735909e-01, -8.91484378e-01, -9.65369322e-01,\n",
       "       -1.23011984e+00, -1.17640953e+00, -8.72213036e-01, -8.03486427e-01,\n",
       "       -1.30385345e+00, -1.35726110e+00, -1.02893759e+00, -4.05982317e-01,\n",
       "       -8.71910369e-01, -1.00451263e+00, -7.40064777e-01, -6.70884168e-01,\n",
       "       -9.55960651e-01, -7.54329116e-01, -1.05776894e+00, -9.21521680e-01,\n",
       "       -5.53605583e-01, -1.21585550e+00, -8.82075707e-01, -9.60513653e-01,\n",
       "       -1.12725222e+00, -9.31081684e-01, -1.05382127e+00, -1.12254788e+00,\n",
       "       -4.59843963e-01, -5.77576549e-01, -1.17640953e+00, -1.38214006e+00,\n",
       "       -1.24498480e+00, -8.42478400e-01, -1.22996851e+00, -1.00466396e+00,\n",
       "       -1.04851160e+00, -1.85337778e+00, -1.06307861e+00, -7.98630758e-01,\n",
       "       -3.37709708e-01, -1.30385345e+00, -5.87590553e-01, -1.05837427e+00,\n",
       "       -8.32918396e-01, -1.13210789e+00,  7.47243664e-01,  8.16424273e-01,\n",
       "        8.69680585e-01,  2.60342064e-03,  5.26643454e-01,  7.57706957e-01,\n",
       "        1.10575109e+00, -2.61239097e-01,  5.70793763e-01,  3.70973518e-01,\n",
       "       -4.67726300e-01,  5.96126730e-01, -2.77314726e-01,  8.50560577e-01,\n",
       "        1.30804011e-01,  5.31801790e-01,  9.63891494e-01,  3.01792910e-01,\n",
       "        6.05640686e-02,  4.69050627e-02,  1.26277832e+00,  1.84060324e-01,\n",
       "        6.04778734e-01,  7.67115628e-01,  3.99502198e-01,  4.87651482e-01,\n",
       "        5.75346765e-01,  9.48118531e-01,  7.23267987e-01, -2.42119088e-01,\n",
       "       -8.05388609e-02, -1.63832476e-01,  1.35205680e-01,  1.05613978e+00,\n",
       "        1.04248077e+00,  1.14049273e+00,  7.81682635e-01,  2.14207623e-02,\n",
       "        6.30717034e-01,  1.69493317e-01,  5.86112725e-01,  8.50711910e-01,\n",
       "        1.35054346e-01, -3.83978685e-01,  4.63675804e-01,  6.74716009e-01,\n",
       "        5.91271061e-01,  4.78091477e-01, -5.06264273e-01,  4.24532498e-01,\n",
       "        2.18856808e+00,  1.13472906e+00,  1.54058251e+00,  1.52161383e+00,\n",
       "        1.69305673e+00,  1.92716461e+00,  8.21729230e-01,  1.71172274e+00,\n",
       "        1.19724271e+00,  2.16854479e+00,  1.27689132e+00,  1.06554845e+00,\n",
       "        1.32529197e+00,  9.23840187e-01,  1.21817401e+00,  1.48277319e+00,\n",
       "        1.44317589e+00,  2.63872317e+00,  1.80397102e+00,  5.55621423e-01,\n",
       "        1.61947445e+00,  1.13017606e+00,  1.80427369e+00,  7.71668630e-01,\n",
       "        1.78150868e+00,  1.75147138e+00,  8.11114603e-01,  1.10059275e+00,\n",
       "        1.39887424e+00,  1.41799425e+00,  1.42239592e+00,  2.31025305e+00,\n",
       "        1.39887424e+00,  1.02170081e+00,  1.34986827e+00,  1.47140190e+00,\n",
       "        1.93883857e+00,  1.56591547e+00,  1.05659378e+00,  1.28614866e+00,\n",
       "        1.53132517e+00,  1.03626782e+00,  1.13472906e+00,  1.82535632e+00,\n",
       "        1.78150868e+00,  1.11470576e+00,  6.88072349e-01,  1.19329504e+00,\n",
       "        1.81154598e+00,  1.34576926e+00])"
      ]
     },
     "execution_count": 13,
     "metadata": {},
     "output_type": "execute_result"
    }
   ],
   "source": [
    "pred_y = X@W + b\n",
    "pred_y"
   ]
  },
  {
   "cell_type": "code",
   "execution_count": 14,
   "metadata": {},
   "outputs": [
    {
     "data": {
      "text/plain": [
       "<matplotlib.legend.Legend at 0x1372883a0>"
      ]
     },
     "execution_count": 14,
     "metadata": {},
     "output_type": "execute_result"
    },
    {
     "data": {
      "image/png": "[encoded data removed]",
      "text/plain": [
       "<Figure size 432x288 with 1 Axes>"
      ]
     },
     "metadata": {
      "needs_background": "light"
     },
     "output_type": "display_data"
    }
   ],
   "source": [
    "plt.plot(pred_y)\n",
    "plt.plot(y)\n",
    "plt.legend(['pred_y', 'y'])"
   ]
  },
  {
   "cell_type": "markdown",
   "metadata": {},
   "source": [
    "***\n",
    "\n",
    "### 오차값 계산\n",
    "- MSE (Mean Squared Error)"
   ]
  },
  {
   "cell_type": "code",
   "execution_count": 15,
   "metadata": {},
   "outputs": [
    {
     "name": "stdout",
     "output_type": "stream",
     "text": [
      "0.9781629480509589\n"
     ]
    }
   ],
   "source": [
    "mse = (((y - pred_y)**2).sum())/150\n",
    "print(mse)"
   ]
  },
  {
   "cell_type": "markdown",
   "metadata": {},
   "source": [
    "***\n",
    "### 가중치 변경"
   ]
  },
  {
   "cell_type": "code",
   "execution_count": 16,
   "metadata": {},
   "outputs": [
    {
     "data": {
      "text/plain": [
       "array([-0.2909464 ,  0.88444948,  0.80293615])"
      ]
     },
     "execution_count": 16,
     "metadata": {},
     "output_type": "execute_result"
    }
   ],
   "source": [
    "W1 = W.copy()\n",
    "W1[0] += 0.102\n",
    "W1[1] += 0.05\n",
    "W1[2] -= 0.03\n",
    "W1"
   ]
  },
  {
   "cell_type": "code",
   "execution_count": 17,
   "metadata": {},
   "outputs": [],
   "source": [
    "pred_y = X@W1 + b"
   ]
  },
  {
   "cell_type": "code",
   "execution_count": 18,
   "metadata": {},
   "outputs": [
    {
     "name": "stdout",
     "output_type": "stream",
     "text": [
      "0.25899555807297037\n"
     ]
    }
   ],
   "source": [
    "mse = (((y - pred_y)**2).sum())/150\n",
    "print(mse)"
   ]
  },
  {
   "cell_type": "code",
   "execution_count": 19,
   "metadata": {},
   "outputs": [
    {
     "data": {
      "image/png": "[encoded data removed]",
      "text/plain": [
       "<Figure size 432x288 with 1 Axes>"
      ]
     },
     "metadata": {
      "needs_background": "light"
     },
     "output_type": "display_data"
    }
   ],
   "source": [
    "plt.plot(pred_y)\n",
    "plt.plot(y)\n",
    "plt.legend(['pred_y', 'y'])\n",
    "\n",
    "plt.show()"
   ]
  },
  {
   "cell_type": "code",
   "execution_count": null,
   "metadata": {},
   "outputs": [],
   "source": []
  }
 ],
 "metadata": {
  "kernelspec": {
   "display_name": "Python 3.8.9 64-bit",
   "language": "python",
   "name": "python3"
  },
  "language_info": {
   "codemirror_mode": {
    "name": "ipython",
    "version": 3
   },
   "file_extension": ".py",
   "mimetype": "text/x-python",
   "name": "python",
   "nbconvert_exporter": "python",
   "pygments_lexer": "ipython3",
   "version": "3.8.9"
  },
  "orig_nbformat": 4,
  "vscode": {
   "interpreter": {
    "hash": "31f2aee4e71d21fbe5cf8b01ff0e069b9275f58929596ceb00d14d90e3e16cd6"
   }
  }
 },
 "nbformat": 4,
 "nbformat_minor": 2
}
