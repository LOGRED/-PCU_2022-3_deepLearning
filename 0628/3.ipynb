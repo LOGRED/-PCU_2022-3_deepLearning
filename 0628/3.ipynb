{
 "cells": [
  {
   "cell_type": "markdown",
   "metadata": {},
   "source": [
    "***\n",
    "## 딥러닝 영상처리\n",
    "### 케라스와 분류"
   ]
  },
  {
   "cell_type": "code",
   "execution_count": null,
   "metadata": {},
   "outputs": [],
   "source": []
  }
 ],
 "metadata": {
  "kernelspec": {
   "display_name": "Python 3.8.13 ('tf25')",
   "language": "python",
   "name": "python3"
  },
  "language_info": {
   "name": "python",
   "version": "3.8.13"
  },
  "orig_nbformat": 4,
  "vscode": {
   "interpreter": {
    "hash": "25a10900bb04da2cb9f55ad7c1827046ca73a702f166764fe65b6f65cb29e7e9"
   }
  }
 },
 "nbformat": 4,
 "nbformat_minor": 2
}
