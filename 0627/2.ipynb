{
 "cells": [
  {
   "cell_type": "markdown",
   "metadata": {},
   "source": [
    "***\n",
    "# 선형회귀"
   ]
  },
  {
   "cell_type": "code",
   "execution_count": 1,
   "metadata": {},
   "outputs": [],
   "source": [
    "import numpy as np\n",
    "import matplotlib.pyplot as plt"
   ]
  },
  {
   "cell_type": "code",
   "execution_count": 2,
   "metadata": {},
   "outputs": [
    {
     "name": "stdout",
     "output_type": "stream",
     "text": [
      "dict_keys(['data', 'target', 'frame', 'target_names', 'DESCR', 'feature_names', 'filename', 'data_module'])\n"
     ]
    }
   ],
   "source": [
    "from sklearn.datasets import load_iris\n",
    "iris = load_iris()\n",
    "\n",
    "print(iris.keys())"
   ]
  },
  {
   "cell_type": "code",
   "execution_count": 3,
   "metadata": {},
   "outputs": [
    {
     "data": {
      "text/plain": [
       "array([[5.1, 3.5, 1.4, 0.2],\n",
       "       [4.9, 3. , 1.4, 0.2],\n",
       "       [4.7, 3.2, 1.3, 0.2],\n",
       "       [4.6, 3.1, 1.5, 0.2],\n",
       "       [5. , 3.6, 1.4, 0.2],\n",
       "       [5.4, 3.9, 1.7, 0.4],\n",
       "       [4.6, 3.4, 1.4, 0.3],\n",
       "       [5. , 3.4, 1.5, 0.2],\n",
       "       [4.4, 2.9, 1.4, 0.2],\n",
       "       [4.9, 3.1, 1.5, 0.1],\n",
       "       [5.4, 3.7, 1.5, 0.2],\n",
       "       [4.8, 3.4, 1.6, 0.2],\n",
       "       [4.8, 3. , 1.4, 0.1],\n",
       "       [4.3, 3. , 1.1, 0.1],\n",
       "       [5.8, 4. , 1.2, 0.2],\n",
       "       [5.7, 4.4, 1.5, 0.4],\n",
       "       [5.4, 3.9, 1.3, 0.4],\n",
       "       [5.1, 3.5, 1.4, 0.3],\n",
       "       [5.7, 3.8, 1.7, 0.3],\n",
       "       [5.1, 3.8, 1.5, 0.3],\n",
       "       [5.4, 3.4, 1.7, 0.2],\n",
       "       [5.1, 3.7, 1.5, 0.4],\n",
       "       [4.6, 3.6, 1. , 0.2],\n",
       "       [5.1, 3.3, 1.7, 0.5],\n",
       "       [4.8, 3.4, 1.9, 0.2],\n",
       "       [5. , 3. , 1.6, 0.2],\n",
       "       [5. , 3.4, 1.6, 0.4],\n",
       "       [5.2, 3.5, 1.5, 0.2],\n",
       "       [5.2, 3.4, 1.4, 0.2],\n",
       "       [4.7, 3.2, 1.6, 0.2],\n",
       "       [4.8, 3.1, 1.6, 0.2],\n",
       "       [5.4, 3.4, 1.5, 0.4],\n",
       "       [5.2, 4.1, 1.5, 0.1],\n",
       "       [5.5, 4.2, 1.4, 0.2],\n",
       "       [4.9, 3.1, 1.5, 0.2],\n",
       "       [5. , 3.2, 1.2, 0.2],\n",
       "       [5.5, 3.5, 1.3, 0.2],\n",
       "       [4.9, 3.6, 1.4, 0.1],\n",
       "       [4.4, 3. , 1.3, 0.2],\n",
       "       [5.1, 3.4, 1.5, 0.2],\n",
       "       [5. , 3.5, 1.3, 0.3],\n",
       "       [4.5, 2.3, 1.3, 0.3],\n",
       "       [4.4, 3.2, 1.3, 0.2],\n",
       "       [5. , 3.5, 1.6, 0.6],\n",
       "       [5.1, 3.8, 1.9, 0.4],\n",
       "       [4.8, 3. , 1.4, 0.3],\n",
       "       [5.1, 3.8, 1.6, 0.2],\n",
       "       [4.6, 3.2, 1.4, 0.2],\n",
       "       [5.3, 3.7, 1.5, 0.2],\n",
       "       [5. , 3.3, 1.4, 0.2],\n",
       "       [7. , 3.2, 4.7, 1.4],\n",
       "       [6.4, 3.2, 4.5, 1.5],\n",
       "       [6.9, 3.1, 4.9, 1.5],\n",
       "       [5.5, 2.3, 4. , 1.3],\n",
       "       [6.5, 2.8, 4.6, 1.5],\n",
       "       [5.7, 2.8, 4.5, 1.3],\n",
       "       [6.3, 3.3, 4.7, 1.6],\n",
       "       [4.9, 2.4, 3.3, 1. ],\n",
       "       [6.6, 2.9, 4.6, 1.3],\n",
       "       [5.2, 2.7, 3.9, 1.4],\n",
       "       [5. , 2. , 3.5, 1. ],\n",
       "       [5.9, 3. , 4.2, 1.5],\n",
       "       [6. , 2.2, 4. , 1. ],\n",
       "       [6.1, 2.9, 4.7, 1.4],\n",
       "       [5.6, 2.9, 3.6, 1.3],\n",
       "       [6.7, 3.1, 4.4, 1.4],\n",
       "       [5.6, 3. , 4.5, 1.5],\n",
       "       [5.8, 2.7, 4.1, 1. ],\n",
       "       [6.2, 2.2, 4.5, 1.5],\n",
       "       [5.6, 2.5, 3.9, 1.1],\n",
       "       [5.9, 3.2, 4.8, 1.8],\n",
       "       [6.1, 2.8, 4. , 1.3],\n",
       "       [6.3, 2.5, 4.9, 1.5],\n",
       "       [6.1, 2.8, 4.7, 1.2],\n",
       "       [6.4, 2.9, 4.3, 1.3],\n",
       "       [6.6, 3. , 4.4, 1.4],\n",
       "       [6.8, 2.8, 4.8, 1.4],\n",
       "       [6.7, 3. , 5. , 1.7],\n",
       "       [6. , 2.9, 4.5, 1.5],\n",
       "       [5.7, 2.6, 3.5, 1. ],\n",
       "       [5.5, 2.4, 3.8, 1.1],\n",
       "       [5.5, 2.4, 3.7, 1. ],\n",
       "       [5.8, 2.7, 3.9, 1.2],\n",
       "       [6. , 2.7, 5.1, 1.6],\n",
       "       [5.4, 3. , 4.5, 1.5],\n",
       "       [6. , 3.4, 4.5, 1.6],\n",
       "       [6.7, 3.1, 4.7, 1.5],\n",
       "       [6.3, 2.3, 4.4, 1.3],\n",
       "       [5.6, 3. , 4.1, 1.3],\n",
       "       [5.5, 2.5, 4. , 1.3],\n",
       "       [5.5, 2.6, 4.4, 1.2],\n",
       "       [6.1, 3. , 4.6, 1.4],\n",
       "       [5.8, 2.6, 4. , 1.2],\n",
       "       [5. , 2.3, 3.3, 1. ],\n",
       "       [5.6, 2.7, 4.2, 1.3],\n",
       "       [5.7, 3. , 4.2, 1.2],\n",
       "       [5.7, 2.9, 4.2, 1.3],\n",
       "       [6.2, 2.9, 4.3, 1.3],\n",
       "       [5.1, 2.5, 3. , 1.1],\n",
       "       [5.7, 2.8, 4.1, 1.3],\n",
       "       [6.3, 3.3, 6. , 2.5],\n",
       "       [5.8, 2.7, 5.1, 1.9],\n",
       "       [7.1, 3. , 5.9, 2.1],\n",
       "       [6.3, 2.9, 5.6, 1.8],\n",
       "       [6.5, 3. , 5.8, 2.2],\n",
       "       [7.6, 3. , 6.6, 2.1],\n",
       "       [4.9, 2.5, 4.5, 1.7],\n",
       "       [7.3, 2.9, 6.3, 1.8],\n",
       "       [6.7, 2.5, 5.8, 1.8],\n",
       "       [7.2, 3.6, 6.1, 2.5],\n",
       "       [6.5, 3.2, 5.1, 2. ],\n",
       "       [6.4, 2.7, 5.3, 1.9],\n",
       "       [6.8, 3. , 5.5, 2.1],\n",
       "       [5.7, 2.5, 5. , 2. ],\n",
       "       [5.8, 2.8, 5.1, 2.4],\n",
       "       [6.4, 3.2, 5.3, 2.3],\n",
       "       [6.5, 3. , 5.5, 1.8],\n",
       "       [7.7, 3.8, 6.7, 2.2],\n",
       "       [7.7, 2.6, 6.9, 2.3],\n",
       "       [6. , 2.2, 5. , 1.5],\n",
       "       [6.9, 3.2, 5.7, 2.3],\n",
       "       [5.6, 2.8, 4.9, 2. ],\n",
       "       [7.7, 2.8, 6.7, 2. ],\n",
       "       [6.3, 2.7, 4.9, 1.8],\n",
       "       [6.7, 3.3, 5.7, 2.1],\n",
       "       [7.2, 3.2, 6. , 1.8],\n",
       "       [6.2, 2.8, 4.8, 1.8],\n",
       "       [6.1, 3. , 4.9, 1.8],\n",
       "       [6.4, 2.8, 5.6, 2.1],\n",
       "       [7.2, 3. , 5.8, 1.6],\n",
       "       [7.4, 2.8, 6.1, 1.9],\n",
       "       [7.9, 3.8, 6.4, 2. ],\n",
       "       [6.4, 2.8, 5.6, 2.2],\n",
       "       [6.3, 2.8, 5.1, 1.5],\n",
       "       [6.1, 2.6, 5.6, 1.4],\n",
       "       [7.7, 3. , 6.1, 2.3],\n",
       "       [6.3, 3.4, 5.6, 2.4],\n",
       "       [6.4, 3.1, 5.5, 1.8],\n",
       "       [6. , 3. , 4.8, 1.8],\n",
       "       [6.9, 3.1, 5.4, 2.1],\n",
       "       [6.7, 3.1, 5.6, 2.4],\n",
       "       [6.9, 3.1, 5.1, 2.3],\n",
       "       [5.8, 2.7, 5.1, 1.9],\n",
       "       [6.8, 3.2, 5.9, 2.3],\n",
       "       [6.7, 3.3, 5.7, 2.5],\n",
       "       [6.7, 3. , 5.2, 2.3],\n",
       "       [6.3, 2.5, 5. , 1.9],\n",
       "       [6.5, 3. , 5.2, 2. ],\n",
       "       [6.2, 3.4, 5.4, 2.3],\n",
       "       [5.9, 3. , 5.1, 1.8]])"
      ]
     },
     "execution_count": 3,
     "metadata": {},
     "output_type": "execute_result"
    }
   ],
   "source": [
    "iris.data"
   ]
  },
  {
   "cell_type": "code",
   "execution_count": 4,
   "metadata": {},
   "outputs": [
    {
     "data": {
      "text/plain": [
       "(150, 4)"
      ]
     },
     "execution_count": 4,
     "metadata": {},
     "output_type": "execute_result"
    }
   ],
   "source": [
    "iris.data.shape"
   ]
  },
  {
   "cell_type": "code",
   "execution_count": 5,
   "metadata": {},
   "outputs": [
    {
     "data": {
      "text/plain": [
       "['sepal length (cm)',\n",
       " 'sepal width (cm)',\n",
       " 'petal length (cm)',\n",
       " 'petal width (cm)']"
      ]
     },
     "execution_count": 5,
     "metadata": {},
     "output_type": "execute_result"
    }
   ],
   "source": [
    "iris.feature_names"
   ]
  },
  {
   "cell_type": "code",
   "execution_count": 6,
   "metadata": {},
   "outputs": [
    {
     "name": "stdout",
     "output_type": "stream",
     "text": [
      "['setosa' 'versicolor' 'virginica']\n"
     ]
    }
   ],
   "source": [
    "print(iris.target_names)"
   ]
  },
  {
   "cell_type": "code",
   "execution_count": 7,
   "metadata": {},
   "outputs": [
    {
     "data": {
      "image/png": "[encoded data removed]",
      "text/plain": [
       "<Figure size 432x288 with 2 Axes>"
      ]
     },
     "metadata": {
      "needs_background": "light"
     },
     "output_type": "display_data"
    }
   ],
   "source": [
    "plt.scatter(iris.data[:, 0], iris.data[:, 1], c=iris.target, alpha=0.35)\n",
    "#plt.scatter(iris.data[:, 2], iris.data[:, 3], c=iris.target, alpha=0.35)\n",
    "plt.colorbar()\n",
    "plt.show()"
   ]
  },
  {
   "cell_type": "code",
   "execution_count": 8,
   "metadata": {},
   "outputs": [],
   "source": [
    "X = iris.data[:, 2]\n",
    "y = iris.data[:, 3]"
   ]
  },
  {
   "cell_type": "code",
   "execution_count": 9,
   "metadata": {},
   "outputs": [],
   "source": [
    "X = iris.data[:, [2]]"
   ]
  },
  {
   "cell_type": "code",
   "execution_count": 10,
   "metadata": {},
   "outputs": [
    {
     "data": {
      "text/plain": [
       "((150, 1), (150,))"
      ]
     },
     "execution_count": 10,
     "metadata": {},
     "output_type": "execute_result"
    }
   ],
   "source": [
    "X.shape, y.shape"
   ]
  },
  {
   "cell_type": "code",
   "execution_count": 11,
   "metadata": {},
   "outputs": [],
   "source": [
    "from sklearn.linear_model import LinearRegression"
   ]
  },
  {
   "cell_type": "code",
   "execution_count": 12,
   "metadata": {},
   "outputs": [
    {
     "name": "stdout",
     "output_type": "stream",
     "text": [
      "[0.21898206 0.21898206 0.17740652 0.2605576  0.21898206 0.34370869\n",
      " 0.21898206 0.2605576  0.21898206 0.2605576  0.2605576  0.30213314\n",
      " 0.21898206 0.09425544 0.13583098 0.2605576  0.17740652 0.21898206\n",
      " 0.34370869 0.2605576  0.34370869 0.2605576  0.0526799  0.34370869\n",
      " 0.42685977 0.30213314 0.30213314 0.2605576  0.21898206 0.30213314\n",
      " 0.30213314 0.2605576  0.2605576  0.21898206 0.2605576  0.13583098\n",
      " 0.17740652 0.21898206 0.17740652 0.2605576  0.17740652 0.17740652\n",
      " 0.17740652 0.30213314 0.42685977 0.21898206 0.30213314 0.21898206\n",
      " 0.2605576  0.21898206 1.59097494 1.50782385 1.67412602 1.29994614\n",
      " 1.54939939 1.50782385 1.59097494 1.00891735 1.54939939 1.2583706\n",
      " 1.09206844 1.38309723 1.29994614 1.59097494 1.13364398 1.46624831\n",
      " 1.50782385 1.34152169 1.50782385 1.2583706  1.63255048 1.29994614\n",
      " 1.67412602 1.59097494 1.42467277 1.46624831 1.63255048 1.71570156\n",
      " 1.50782385 1.09206844 1.21679506 1.17521952 1.2583706  1.7572771\n",
      " 1.50782385 1.50782385 1.59097494 1.46624831 1.34152169 1.29994614\n",
      " 1.46624831 1.54939939 1.29994614 1.00891735 1.38309723 1.38309723\n",
      " 1.38309723 1.42467277 0.88419073 1.34152169 2.13145698 1.7572771\n",
      " 2.08988144 1.96515481 2.04830589 2.38091023 1.50782385 2.2561836\n",
      " 2.04830589 2.17303252 1.7572771  1.84042819 1.92357927 1.71570156\n",
      " 1.7572771  1.84042819 1.92357927 2.42248577 2.50563685 1.71570156\n",
      " 2.00673035 1.67412602 2.42248577 1.67412602 2.00673035 2.13145698\n",
      " 1.63255048 1.67412602 1.96515481 2.04830589 2.17303252 2.29775914\n",
      " 1.96515481 1.7572771  1.96515481 2.17303252 1.96515481 1.92357927\n",
      " 1.63255048 1.88200373 1.96515481 1.7572771  1.7572771  2.08988144\n",
      " 2.00673035 1.79885264 1.71570156 1.79885264 1.88200373 1.7572771 ]\n"
     ]
    }
   ],
   "source": [
    "# X(키)의 값 y(몸무게) 맞추는\n",
    "\n",
    "model = LinearRegression()\n",
    "model.fit(X, y)\n",
    "y_pred = model.predict(X)\n",
    "print(y_pred)"
   ]
  },
  {
   "cell_type": "code",
   "execution_count": 13,
   "metadata": {},
   "outputs": [
    {
     "data": {
      "text/plain": [
       "(150,)"
      ]
     },
     "execution_count": 13,
     "metadata": {},
     "output_type": "execute_result"
    }
   ],
   "source": [
    "y_pred.shape"
   ]
  },
  {
   "cell_type": "code",
   "execution_count": 14,
   "metadata": {},
   "outputs": [
    {
     "data": {
      "image/png": "[encoded data removed]",
      "text/plain": [
       "<Figure size 432x288 with 1 Axes>"
      ]
     },
     "metadata": {
      "needs_background": "light"
     },
     "output_type": "display_data"
    }
   ],
   "source": [
    "plt.scatter(X[:, 0] ,y, alpha=0.5)\n",
    "plt.plot(X[:, 0], y_pred, 'r')\n",
    "plt.axis('scaled')\n",
    "\n",
    "plt.show()\n"
   ]
  },
  {
   "cell_type": "code",
   "execution_count": 15,
   "metadata": {},
   "outputs": [
    {
     "data": {
      "text/plain": [
       "-0.3630755213190304"
      ]
     },
     "execution_count": 15,
     "metadata": {},
     "output_type": "execute_result"
    }
   ],
   "source": [
    "# 절편값?\n",
    "\n",
    "model.intercept_"
   ]
  },
  {
   "cell_type": "code",
   "execution_count": 16,
   "metadata": {},
   "outputs": [
    {
     "data": {
      "text/plain": [
       "array([0.41575542])"
      ]
     },
     "execution_count": 16,
     "metadata": {},
     "output_type": "execute_result"
    }
   ],
   "source": [
    "# 가중치\n",
    "\n",
    "model.coef_"
   ]
  },
  {
   "cell_type": "markdown",
   "metadata": {},
   "source": [
    "***"
   ]
  },
  {
   "cell_type": "code",
   "execution_count": 17,
   "metadata": {},
   "outputs": [
    {
     "data": {
      "text/plain": [
       "((150, 3), (150,))"
      ]
     },
     "execution_count": 17,
     "metadata": {},
     "output_type": "execute_result"
    }
   ],
   "source": [
    "X = iris.data[:, :3]\n",
    "y = iris.data[:, 3]\n",
    "X.shape, y.shape"
   ]
  },
  {
   "cell_type": "code",
   "execution_count": 18,
   "metadata": {},
   "outputs": [
    {
     "data": {
      "text/html": [
       "<style>#sk-container-id-1 {color: black;background-color: white;}#sk-container-id-1 pre{padding: 0;}#sk-container-id-1 div.sk-toggleable {background-color: white;}#sk-container-id-1 label.sk-toggleable__label {cursor: pointer;display: block;width: 100%;margin-bottom: 0;padding: 0.3em;box-sizing: border-box;text-align: center;}#sk-container-id-1 label.sk-toggleable__label-arrow:before {content: \"▸\";float: left;margin-right: 0.25em;color: #696969;}#sk-container-id-1 label.sk-toggleable__label-arrow:hover:before {color: black;}#sk-container-id-1 div.sk-estimator:hover label.sk-toggleable__label-arrow:before {color: black;}#sk-container-id-1 div.sk-toggleable__content {max-height: 0;max-width: 0;overflow: hidden;text-align: left;background-color: #f0f8ff;}#sk-container-id-1 div.sk-toggleable__content pre {margin: 0.2em;color: black;border-radius: 0.25em;background-color: #f0f8ff;}#sk-container-id-1 input.sk-toggleable__control:checked~div.sk-toggleable__content {max-height: 200px;max-width: 100%;overflow: auto;}#sk-container-id-1 input.sk-toggleable__control:checked~label.sk-toggleable__label-arrow:before {content: \"▾\";}#sk-container-id-1 div.sk-estimator input.sk-toggleable__control:checked~label.sk-toggleable__label {background-color: #d4ebff;}#sk-container-id-1 div.sk-label input.sk-toggleable__control:checked~label.sk-toggleable__label {background-color: #d4ebff;}#sk-container-id-1 input.sk-hidden--visually {border: 0;clip: rect(1px 1px 1px 1px);clip: rect(1px, 1px, 1px, 1px);height: 1px;margin: -1px;overflow: hidden;padding: 0;position: absolute;width: 1px;}#sk-container-id-1 div.sk-estimator {font-family: monospace;background-color: #f0f8ff;border: 1px dotted black;border-radius: 0.25em;box-sizing: border-box;margin-bottom: 0.5em;}#sk-container-id-1 div.sk-estimator:hover {background-color: #d4ebff;}#sk-container-id-1 div.sk-parallel-item::after {content: \"\";width: 100%;border-bottom: 1px solid gray;flex-grow: 1;}#sk-container-id-1 div.sk-label:hover label.sk-toggleable__label {background-color: #d4ebff;}#sk-container-id-1 div.sk-serial::before {content: \"\";position: absolute;border-left: 1px solid gray;box-sizing: border-box;top: 0;bottom: 0;left: 50%;z-index: 0;}#sk-container-id-1 div.sk-serial {display: flex;flex-direction: column;align-items: center;background-color: white;padding-right: 0.2em;padding-left: 0.2em;position: relative;}#sk-container-id-1 div.sk-item {position: relative;z-index: 1;}#sk-container-id-1 div.sk-parallel {display: flex;align-items: stretch;justify-content: center;background-color: white;position: relative;}#sk-container-id-1 div.sk-item::before, #sk-container-id-1 div.sk-parallel-item::before {content: \"\";position: absolute;border-left: 1px solid gray;box-sizing: border-box;top: 0;bottom: 0;left: 50%;z-index: -1;}#sk-container-id-1 div.sk-parallel-item {display: flex;flex-direction: column;z-index: 1;position: relative;background-color: white;}#sk-container-id-1 div.sk-parallel-item:first-child::after {align-self: flex-end;width: 50%;}#sk-container-id-1 div.sk-parallel-item:last-child::after {align-self: flex-start;width: 50%;}#sk-container-id-1 div.sk-parallel-item:only-child::after {width: 0;}#sk-container-id-1 div.sk-dashed-wrapped {border: 1px dashed gray;margin: 0 0.4em 0.5em 0.4em;box-sizing: border-box;padding-bottom: 0.4em;background-color: white;}#sk-container-id-1 div.sk-label label {font-family: monospace;font-weight: bold;display: inline-block;line-height: 1.2em;}#sk-container-id-1 div.sk-label-container {text-align: center;}#sk-container-id-1 div.sk-container {/* jupyter's `normalize.less` sets `[hidden] { display: none; }` but bootstrap.min.css set `[hidden] { display: none !important; }` so we also need the `!important` here to be able to override the default hidden behavior on the sphinx rendered scikit-learn.org. See: https://github.com/scikit-learn/scikit-learn/issues/21755 */display: inline-block !important;position: relative;}#sk-container-id-1 div.sk-text-repr-fallback {display: none;}</style><div id=\"sk-container-id-1\" class=\"sk-top-container\"><div class=\"sk-text-repr-fallback\"><pre>LinearRegression()</pre><b>In a Jupyter environment, please rerun this cell to show the HTML representation or trust the notebook. <br />On GitHub, the HTML representation is unable to render, please try loading this page with nbviewer.org.</b></div><div class=\"sk-container\" hidden><div class=\"sk-item\"><div class=\"sk-estimator sk-toggleable\"><input class=\"sk-toggleable__control sk-hidden--visually\" id=\"sk-estimator-id-1\" type=\"checkbox\" checked><label for=\"sk-estimator-id-1\" class=\"sk-toggleable__label sk-toggleable__label-arrow\">LinearRegression</label><div class=\"sk-toggleable__content\"><pre>LinearRegression()</pre></div></div></div></div></div>"
      ],
      "text/plain": [
       "LinearRegression()"
      ]
     },
     "execution_count": 18,
     "metadata": {},
     "output_type": "execute_result"
    }
   ],
   "source": [
    "from sklearn.linear_model import LinearRegression\n",
    "model = LinearRegression()\n",
    "model.fit(X, y)"
   ]
  },
  {
   "cell_type": "code",
   "execution_count": 19,
   "metadata": {},
   "outputs": [
    {
     "data": {
      "text/plain": [
       "array([-0.20726607,  0.22282854,  0.52408311])"
      ]
     },
     "metadata": {},
     "output_type": "display_data"
    },
    {
     "data": {
      "text/plain": [
       "-0.24030738911226313"
      ]
     },
     "metadata": {},
     "output_type": "display_data"
    }
   ],
   "source": [
    "w = model.coef_\n",
    "b = model.intercept_\n",
    "\n",
    "display(w, b)"
   ]
  },
  {
   "cell_type": "code",
   "execution_count": 20,
   "metadata": {},
   "outputs": [
    {
     "data": {
      "text/plain": [
       "((150, 2), (150,))"
      ]
     },
     "execution_count": 20,
     "metadata": {},
     "output_type": "execute_result"
    }
   ],
   "source": [
    "X = iris.data[:, :2]\n",
    "y = np.array([0] * 50 + [1] * 100)\n",
    "\n",
    "X.shape, y.shape"
   ]
  },
  {
   "cell_type": "code",
   "execution_count": 21,
   "metadata": {},
   "outputs": [],
   "source": [
    "from sklearn.linear_model import LogisticRegression"
   ]
  },
  {
   "cell_type": "code",
   "execution_count": 22,
   "metadata": {},
   "outputs": [
    {
     "data": {
      "text/plain": [
       "array([ True,  True,  True,  True,  True,  True,  True,  True,  True,\n",
       "        True,  True,  True,  True,  True,  True,  True,  True,  True,\n",
       "        True,  True,  True,  True,  True,  True,  True,  True,  True,\n",
       "        True,  True,  True,  True,  True,  True,  True,  True,  True,\n",
       "        True,  True,  True,  True,  True,  True,  True,  True,  True,\n",
       "        True,  True,  True,  True,  True,  True,  True,  True,  True,\n",
       "        True,  True,  True,  True,  True,  True,  True,  True,  True,\n",
       "        True,  True,  True,  True,  True,  True,  True,  True,  True,\n",
       "        True,  True,  True,  True,  True,  True,  True,  True,  True,\n",
       "        True,  True,  True,  True,  True,  True,  True,  True,  True,\n",
       "        True,  True,  True,  True,  True,  True,  True,  True,  True,\n",
       "        True,  True,  True,  True,  True,  True,  True,  True,  True,\n",
       "        True,  True,  True,  True,  True,  True,  True,  True,  True,\n",
       "        True,  True,  True,  True,  True,  True,  True,  True,  True,\n",
       "        True,  True,  True,  True,  True,  True,  True,  True,  True,\n",
       "        True,  True,  True,  True,  True,  True,  True,  True,  True,\n",
       "        True,  True,  True,  True,  True,  True])"
      ]
     },
     "execution_count": 22,
     "metadata": {},
     "output_type": "execute_result"
    }
   ],
   "source": [
    "model = LogisticRegression()\n",
    "model.fit(X, y)\n",
    "y_pred = model.predict(X)\n",
    "y_pred == y"
   ]
  },
  {
   "cell_type": "code",
   "execution_count": 23,
   "metadata": {},
   "outputs": [
    {
     "data": {
      "text/plain": [
       "1.0"
      ]
     },
     "execution_count": 23,
     "metadata": {},
     "output_type": "execute_result"
    }
   ],
   "source": [
    "model.score(X, y) # 머신러닝 스코어"
   ]
  },
  {
   "cell_type": "code",
   "execution_count": 24,
   "metadata": {},
   "outputs": [],
   "source": [
    "w = model.coef_[0]\n",
    "b = model.intercept_[0]"
   ]
  },
  {
   "cell_type": "code",
   "execution_count": 25,
   "metadata": {},
   "outputs": [
    {
     "data": {
      "text/plain": [
       "[<matplotlib.lines.Line2D at 0x179cbd280>]"
      ]
     },
     "execution_count": 25,
     "metadata": {},
     "output_type": "execute_result"
    },
    {
     "data": {
      "image/png": "[encoded data removed]",
      "text/plain": [
       "<Figure size 432x288 with 1 Axes>"
      ]
     },
     "metadata": {
      "needs_background": "light"
     },
     "output_type": "display_data"
    }
   ],
   "source": [
    "xs = np.array([4, 8])\n",
    "ys = -(w[0]*xs + b)/w[1]\n",
    "\n",
    "plt.scatter(X[:, 0], X[:, 1], c=y)\n",
    "plt.plot(xs, ys, 'r')"
   ]
  },
  {
   "cell_type": "code",
   "execution_count": 26,
   "metadata": {},
   "outputs": [
    {
     "data": {
      "text/plain": [
       "array([[8.92720238e-01, 1.07279762e-01],\n",
       "       [7.71046348e-01, 2.28953652e-01],\n",
       "       [9.25861792e-01, 7.41382077e-02],\n",
       "       [9.27383226e-01, 7.26167745e-02],\n",
       "       [9.41260955e-01, 5.87390446e-02],\n",
       "       [9.14366510e-01, 8.56334901e-02],\n",
       "       [9.70588854e-01, 2.94111457e-02],\n",
       "       [8.94844544e-01, 1.05155456e-01],\n",
       "       [9.30340069e-01, 6.96599310e-02],\n",
       "       [8.22106028e-01, 1.77893972e-01],\n",
       "       [8.50082658e-01, 1.49917342e-01],\n",
       "       [9.43687032e-01, 5.63129680e-02],\n",
       "       [8.25355057e-01, 1.74644943e-01],\n",
       "       [9.62572636e-01, 3.74273639e-02],\n",
       "       [7.90722967e-01, 2.09277033e-01],\n",
       "       [9.49498438e-01, 5.05015620e-02],\n",
       "       [9.14366510e-01, 8.56334901e-02],\n",
       "       [8.92720238e-01, 1.07279762e-01],\n",
       "       [7.37925296e-01, 2.62074704e-01],\n",
       "       [9.55561442e-01, 4.44385583e-02],\n",
       "       [6.86948409e-01, 3.13051591e-01],\n",
       "       [9.40011474e-01, 5.99885260e-02],\n",
       "       [9.84162879e-01, 1.58371212e-02],\n",
       "       [8.15466254e-01, 1.84533746e-01],\n",
       "       [9.43687032e-01, 5.63129680e-02],\n",
       "       [7.05867903e-01, 2.94132097e-01],\n",
       "       [8.94844544e-01, 1.05155456e-01],\n",
       "       [8.55697295e-01, 1.44302705e-01],\n",
       "       [8.12075145e-01, 1.87924855e-01],\n",
       "       [9.25861792e-01, 7.41382077e-02],\n",
       "       [8.66401735e-01, 1.33598265e-01],\n",
       "       [6.86948409e-01, 3.13051591e-01],\n",
       "       [9.75366839e-01, 2.46331612e-02],\n",
       "       [9.51601779e-01, 4.83982209e-02],\n",
       "       [8.22106028e-01, 1.77893972e-01],\n",
       "       [8.18809824e-01, 1.81190176e-01],\n",
       "       [6.82116219e-01, 3.17883781e-01],\n",
       "       [9.57423588e-01, 4.25764123e-02],\n",
       "       [9.48259025e-01, 5.17409749e-02],\n",
       "       [8.58438460e-01, 1.41561540e-01],\n",
       "       [9.21120027e-01, 7.88799726e-02],\n",
       "       [5.87678957e-01, 4.12321043e-01],\n",
       "       [9.71839851e-01, 2.81601486e-02],\n",
       "       [9.21120027e-01, 7.88799726e-02],\n",
       "       [9.55561442e-01, 4.44385583e-02],\n",
       "       [8.25355057e-01, 1.74644943e-01],\n",
       "       [9.55561442e-01, 4.44385583e-02],\n",
       "       [9.46018652e-01, 5.39813480e-02],\n",
       "       [8.88358175e-01, 1.11641825e-01],\n",
       "       [8.61136004e-01, 1.38863996e-01],\n",
       "       [5.12600003e-03, 9.94874000e-01],\n",
       "       [3.78582845e-02, 9.62141716e-01],\n",
       "       [5.24138947e-03, 9.94758611e-01],\n",
       "       [4.59168341e-02, 9.54083166e-01],\n",
       "       [7.84539075e-03, 9.92154609e-01],\n",
       "       [1.06280067e-01, 8.93719933e-01],\n",
       "       [7.04348064e-02, 9.29565194e-01],\n",
       "       [3.35260426e-01, 6.64739574e-01],\n",
       "       [7.67311629e-03, 9.92326884e-01],\n",
       "       [3.20468700e-01, 6.79531300e-01],\n",
       "       [9.20273399e-02, 9.07972660e-01],\n",
       "       [1.02103420e-01, 8.97896580e-01],\n",
       "       [6.40328292e-03, 9.93596717e-01],\n",
       "       [4.03808448e-02, 9.59619155e-01],\n",
       "       [1.86330517e-01, 8.13669483e-01],\n",
       "       [1.02695039e-02, 9.89730496e-01],\n",
       "       [2.39107398e-01, 7.60892602e-01],\n",
       "       [5.81622102e-02, 9.41837790e-01],\n",
       "       [3.26189380e-03, 9.96738106e-01],\n",
       "       [6.06628345e-02, 9.39337165e-01],\n",
       "       [1.76366253e-01, 8.23633747e-01],\n",
       "       [2.97526242e-02, 9.70247376e-01],\n",
       "       [5.99002561e-03, 9.94009974e-01],\n",
       "       [2.97526242e-02, 9.70247376e-01],\n",
       "       [1.49988359e-02, 9.85001164e-01],\n",
       "       [1.04994549e-02, 9.89500545e-01],\n",
       "       [2.85324211e-03, 9.97146758e-01],\n",
       "       [7.50459613e-03, 9.92495404e-01],\n",
       "       [5.57585470e-02, 9.44241453e-01],\n",
       "       [5.94001956e-02, 9.40599804e-01],\n",
       "       [6.19505449e-02, 9.38049455e-01],\n",
       "       [6.19505449e-02, 9.38049455e-01],\n",
       "       [5.81622102e-02, 9.41837790e-01],\n",
       "       [3.04054318e-02, 9.69594568e-01],\n",
       "       [3.82271042e-01, 6.17728958e-01],\n",
       "       [2.23204739e-01, 7.76795261e-01],\n",
       "       [1.02695039e-02, 9.89730496e-01],\n",
       "       [3.18994330e-03, 9.96810057e-01],\n",
       "       [2.39107398e-01, 7.60892602e-01],\n",
       "       [8.30954449e-02, 9.16904555e-01],\n",
       "       [1.10606518e-01, 8.89393482e-01],\n",
       "       [5.45920536e-02, 9.45407946e-01],\n",
       "       [4.30639643e-02, 9.56936036e-01],\n",
       "       [2.07547843e-01, 7.92452157e-01],\n",
       "       [1.08424339e-01, 8.91575661e-01],\n",
       "       [1.82961696e-01, 8.17038304e-01],\n",
       "       [1.40292591e-01, 8.59707409e-01],\n",
       "       [2.91134116e-02, 9.70886588e-01],\n",
       "       [2.60052738e-01, 7.39947262e-01],\n",
       "       [1.06280067e-01, 8.93719933e-01],\n",
       "       [7.04348064e-02, 9.29565194e-01],\n",
       "       [5.81622102e-02, 9.41837790e-01],\n",
       "       [1.94601095e-03, 9.98053989e-01],\n",
       "       [2.09213773e-02, 9.79078623e-01],\n",
       "       [1.46718041e-02, 9.85328196e-01],\n",
       "       [3.58159275e-04, 9.99641841e-01],\n",
       "       [4.09015931e-01, 5.90984069e-01],\n",
       "       [7.21008730e-04, 9.99278991e-01],\n",
       "       [1.55151516e-03, 9.98448485e-01],\n",
       "       [9.19244022e-03, 9.90807560e-01],\n",
       "       [2.72747135e-02, 9.72725286e-01],\n",
       "       [8.02150180e-03, 9.91978498e-01],\n",
       "       [5.35936241e-03, 9.94640638e-01],\n",
       "       [4.39955947e-02, 9.56004405e-01],\n",
       "       [7.81217644e-02, 9.21878236e-01],\n",
       "       [3.78582845e-02, 9.62141716e-01],\n",
       "       [1.46718041e-02, 9.85328196e-01],\n",
       "       [3.20005486e-03, 9.96799945e-01],\n",
       "       [7.19969082e-05, 9.99928003e-01],\n",
       "       [6.40328292e-03, 9.93596717e-01],\n",
       "       [7.17849812e-03, 9.92821502e-01],\n",
       "       [1.43013278e-01, 8.56986722e-01],\n",
       "       [1.35566886e-04, 9.99864433e-01],\n",
       "       [1.12203100e-02, 9.88779690e-01],\n",
       "       [1.91644385e-02, 9.80835561e-01],\n",
       "       [2.60958787e-03, 9.97390412e-01],\n",
       "       [2.13846877e-02, 9.78615312e-01],\n",
       "       [5.45920536e-02, 9.45407946e-01],\n",
       "       [1.09747465e-02, 9.89025253e-01],\n",
       "       [1.38751071e-03, 9.98612489e-01],\n",
       "       [3.74546279e-04, 9.99625454e-01],\n",
       "       [1.62756451e-03, 9.98372435e-01],\n",
       "       [1.09747465e-02, 9.89025253e-01],\n",
       "       [1.53330438e-02, 9.84666956e-01],\n",
       "       [1.60236001e-02, 9.83976400e-01],\n",
       "       [2.55251918e-04, 9.99744748e-01],\n",
       "       [9.41847897e-02, 9.05815210e-01],\n",
       "       [2.78747149e-02, 9.72125285e-01],\n",
       "       [7.49588843e-02, 9.25041116e-01],\n",
       "       [5.24138947e-03, 9.94758611e-01],\n",
       "       [1.02695039e-02, 9.89730496e-01],\n",
       "       [5.24138947e-03, 9.94758611e-01],\n",
       "       [5.81622102e-02, 9.41837790e-01],\n",
       "       [1.00445380e-02, 9.89955462e-01],\n",
       "       [1.91644385e-02, 9.80835561e-01],\n",
       "       [7.50459613e-03, 9.92495404e-01],\n",
       "       [5.99002561e-03, 9.94009974e-01],\n",
       "       [1.46718041e-02, 9.85328196e-01],\n",
       "       [1.27333164e-01, 8.72666836e-01],\n",
       "       [1.02103420e-01, 8.97896580e-01]])"
      ]
     },
     "execution_count": 26,
     "metadata": {},
     "output_type": "execute_result"
    }
   ],
   "source": [
    "model.predict_proba(X)"
   ]
  },
  {
   "cell_type": "code",
   "execution_count": null,
   "metadata": {},
   "outputs": [],
   "source": []
  }
 ],
 "metadata": {
  "kernelspec": {
   "display_name": "Python 3.8.9 64-bit",
   "language": "python",
   "name": "python3"
  },
  "language_info": {
   "codemirror_mode": {
    "name": "ipython",
    "version": 3
   },
   "file_extension": ".py",
   "mimetype": "text/x-python",
   "name": "python",
   "nbconvert_exporter": "python",
   "pygments_lexer": "ipython3",
   "version": "3.8.9"
  },
  "orig_nbformat": 4,
  "vscode": {
   "interpreter": {
    "hash": "31f2aee4e71d21fbe5cf8b01ff0e069b9275f58929596ceb00d14d90e3e16cd6"
   }
  }
 },
 "nbformat": 4,
 "nbformat_minor": 2
}
